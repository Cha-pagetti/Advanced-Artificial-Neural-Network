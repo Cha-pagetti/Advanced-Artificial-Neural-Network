{
  "nbformat": 4,
  "nbformat_minor": 0,
  "metadata": {
    "colab": {
      "provenance": [],
      "gpuType": "T4",
      "include_colab_link": true
    },
    "kernelspec": {
      "name": "python3",
      "display_name": "Python 3"
    },
    "language_info": {
      "name": "python"
    },
    "accelerator": "GPU"
  },
  "cells": [
    {
      "cell_type": "markdown",
      "metadata": {
        "id": "view-in-github",
        "colab_type": "text"
      },
      "source": [
        "<a href=\"https://colab.research.google.com/github/Cha-pagetti/Advanced-Artificial-Neural-Network/blob/main/advanced_ann_project_CHA.ipynb\" target=\"_parent\"><img src=\"https://colab.research.google.com/assets/colab-badge.svg\" alt=\"Open In Colab\"/></a>"
      ]
    },
    {
      "cell_type": "markdown",
      "source": [
        "# 라이브러리 호출 및 시드 고정 (호출 함수만 추가 가능, 시드 변경 불가)"
      ],
      "metadata": {
        "id": "eNojonEPEhhj"
      }
    },
    {
      "cell_type": "code",
      "source": [
        "import torch\n",
        "import torch.nn as nn\n",
        "import torch.optim as optim\n",
        "from torch.utils.data import DataLoader, TensorDataset, random_split\n",
        "import numpy as np\n",
        "import pandas as pd\n",
        "from sklearn.metrics import precision_score, recall_score, f1_score, accuracy_score\n",
        "import matplotlib.pyplot as plt\n",
        "import random\n",
        "\n",
        "# 랜덤 시드 고정\n",
        "def set_seed(seed):\n",
        "    torch.manual_seed(seed)\n",
        "    torch.cuda.manual_seed(seed)\n",
        "    np.random.seed(seed)\n",
        "    random.seed(seed)\n",
        "    torch.backends.cudnn.deterministic = True\n",
        "    torch.backends.cudnn.benchmark = False\n",
        "\n",
        "set_seed(42)  # 시드 고정 값 사용\n",
        "              # 인공신경망은 randomness(무작위성, 비결정성) 영향 많이 받음\n",
        "              # 학습 시작 시 W, b 값을 랜덤하게 초기화함\n",
        "\n",
        "latent_size = 32 # 고정 size (1차 성능 정리 수업까지 변경 가능)\n",
        "                 # '작은 작아진 노드 수' (Outoencoder에서의)\n",
        "                 # 사이즈 많이 줄이면 -> Data 압축 많이 하기 때문에 -> 데이터 손실이 커짐\n",
        "\n",
        "                 # Activation Func도 바꿀 수 있다! (Autoencoder는 layer가 좀 있음)\n",
        "                 # But) 각 Layer의 활성화 함수는 통일해주자!\n",
        "                 # Linear 활성화 함수는 변경하지 말자 (ReLU, Sigmoid 등 변경 가능)"
      ],
      "metadata": {
        "id": "RwKtyvrPQ5M5"
      },
      "execution_count": 24,
      "outputs": []
    },
    {
      "cell_type": "markdown",
      "source": [
        "# 하이퍼파리미터 설정 및 모델 정의（하이퍼파리미터 튜닝）(수정 가능 부분)"
      ],
      "metadata": {
        "id": "4asiuNIMEmJO"
      }
    },
    {
      "cell_type": "code",
      "source": [
        "# 하이퍼파라미터 설정\n",
        "batch_size = 64 # 256\n",
        "num_epochs = 80\n",
        "learning_rate = 14e-4\n",
        "\n",
        "\n",
        "# Autoencoder 모델 정의\n",
        "# Linear 활성화 함수는 변경하지 말자 (ReLu, Sigmoid 등 변경 가능)\n",
        "# But) Layer의 활성화 함수는 통일해주자!\n",
        "# Autoencoder 모델 정의\n",
        "class Autoencoder(nn.Module):\n",
        "    def __init__(self):\n",
        "        super(Autoencoder, self).__init__()\n",
        "        self.encoder = nn.Sequential(\n",
        "            nn.Linear(784, 600),          # 입력층 → 1번째 은닉층\n",
        "            nn.GELU(),\n",
        "            nn.Linear(600, 400),          # 1번째 은닉층 → 2번째 은닉층\n",
        "            nn.GELU(),\n",
        "            nn.Linear(400, 200),\n",
        "            nn.GELU(),\n",
        "            nn.Linear(200, 120),\n",
        "            nn.GELU(),\n",
        "            nn.Linear(120, 100),\n",
        "            nn.GELU(),\n",
        "            nn.Linear(100, latent_size)   # 5번째 은닉층 → 잠재공간(latent space)\n",
        "        )\n",
        "        self.decoder = nn.Sequential(\n",
        "            nn.Linear(latent_size, 100),\n",
        "            nn.GELU(),\n",
        "            nn.Linear(100, 120),\n",
        "            nn.GELU(),\n",
        "            nn.Linear(120, 200),\n",
        "            nn.GELU(),\n",
        "            nn.Linear(200, 400),\n",
        "            nn.GELU(),\n",
        "            nn.Linear(400, 600),\n",
        "            nn.GELU(),\n",
        "            nn.Linear(600, 784),\n",
        "            nn.Sigmoid()  # 출력층은 그대로 유지 (이미지 복원용)\n",
        "        )\n",
        "\n",
        "    def forward(self, x):\n",
        "        x = self.encoder(x)\n",
        "        x = self.decoder(x)\n",
        "        return x\n",
        "\n",
        "# 모델, 손실 함수, 옵티마이저 정의\n",
        "device = torch.device(\"cuda\" if torch.cuda.is_available() else \"cpu\")\n",
        "model = Autoencoder().to(device)\n",
        "loss_fn = nn.HuberLoss()    # nn.MSELoss()에서 변경\n",
        "optimizer = optim.Adam(model.parameters(), lr=learning_rate)\n",
        "\n",
        "#threshold 설정 기준\n",
        "def find_best_threshold(thresholds, valid_errors, y_valid_combined):\n",
        "    best_threshold = 0\n",
        "    best_accuracy = 0\n",
        "    best_precision = 0\n",
        "    best_recall = 0\n",
        "    best_f1 = 0\n",
        "    best_y_pred = None\n",
        "\n",
        "    accuracies = []\n",
        "    precisions = []\n",
        "    recalls = []\n",
        "    f1_scores = []\n",
        "\n",
        "    for threshold in thresholds:\n",
        "        y_pred = (valid_errors > threshold).astype(int)\n",
        "        acc = accuracy_score(y_valid_combined, y_pred)\n",
        "        precision = precision_score(y_valid_combined, y_pred, zero_division=0)\n",
        "        recall = recall_score(y_valid_combined, y_pred, zero_division=0)\n",
        "        f1 = f1_score(y_valid_combined, y_pred, zero_division=0)\n",
        "\n",
        "        accuracies.append(acc)\n",
        "        precisions.append(precision)\n",
        "        recalls.append(recall)\n",
        "        f1_scores.append(f1)\n",
        "\n",
        "        if acc > best_accuracy:\n",
        "            best_accuracy = acc\n",
        "            best_threshold = threshold\n",
        "            best_precision = precision\n",
        "            best_recall = recall\n",
        "            best_f1 = f1\n",
        "            best_y_pred = y_pred\n",
        "\n",
        "    return best_threshold, best_accuracy, best_precision, best_recall, best_f1, accuracies, precisions, recalls, f1_scores\n"
      ],
      "metadata": {
        "id": "0asvhf4LDUk0"
      },
      "execution_count": 25,
      "outputs": []
    },
    {
      "cell_type": "markdown",
      "source": [
        "# 데이터 로드 및 전처리 (수정 불가)"
      ],
      "metadata": {
        "id": "BERPvzCHEaC_"
      }
    },
    {
      "cell_type": "code",
      "source": [
        "# EMNIST 데이터 로드\n",
        "train_data = pd.read_csv('emnist-balanced-train.csv', header=None)\n",
        "test_data = pd.read_csv('emnist-balanced-test.csv', header=None)\n",
        "\n",
        "# 데이터 전처리\n",
        "X_train = train_data.iloc[:, 1:].values.astype('float32') / 255.\n",
        "y_train = train_data.iloc[:, 0].values\n",
        "X_test = test_data.iloc[:, 1:].values.astype('float32') / 255.\n",
        "y_test = test_data.iloc[:, 0].values\n",
        "\n",
        "# 28x28 이미지를 1차원 벡터로 변환\n",
        "X_train = X_train.reshape((X_train.shape[0], 784))\n",
        "X_test = X_test.reshape((X_test.shape[0], 784))\n",
        "\n",
        "# Validation 데이터를 Train 데이터에서 3:1 비율로 분리\n",
        "train_size = int(0.75 * len(X_train))\n",
        "valid_size = len(X_train) - train_size\n",
        "\n",
        "train_dataset_full = TensorDataset(torch.tensor(X_train), torch.tensor(y_train))\n",
        "train_dataset, valid_dataset = random_split(train_dataset_full, [train_size, valid_size])\n",
        "\n",
        "# Validation 데이터에서 정상(숫자)과 비정상(문자) 데이터 분리\n",
        "valid_data = torch.stack([data[0] for data in valid_dataset])\n",
        "valid_labels = torch.tensor([data[1].item() for data in valid_dataset])\n",
        "\n",
        "valid_digits = valid_data[valid_labels < 10]\n",
        "valid_digits_labels = torch.zeros(len(valid_digits))  # 정상 데이터\n",
        "valid_letters = valid_data[valid_labels >= 10]\n",
        "valid_letters_labels = torch.ones(len(valid_letters))  # 비정상 데이터\n",
        "\n",
        "# Validation 데이터에서 숫자와 문자의 수를 동일하게 맞추기\n",
        "min_valid_count = min(len(valid_digits), len(valid_letters))\n",
        "valid_digits = valid_digits[:min_valid_count]\n",
        "valid_digits_labels = valid_digits_labels[:min_valid_count]\n",
        "valid_letters = valid_letters[:min_valid_count]\n",
        "valid_letters_labels = valid_letters_labels[:min_valid_count]\n",
        "\n",
        "# 최종 Validation 데이터셋 생성\n",
        "valid_data_combined = torch.cat([valid_digits, valid_letters])\n",
        "valid_labels_combined = torch.cat([valid_digits_labels, valid_letters_labels])\n",
        "valid_dataset_final = TensorDataset(valid_data_combined, valid_labels_combined)\n",
        "\n",
        "# Train 데이터에서 숫자 데이터만 남기기\n",
        "X_train_digits = X_train[y_train < 10]\n",
        "train_dataset = TensorDataset(torch.tensor(X_train_digits), torch.tensor(X_train_digits))\n",
        "\n",
        "# Test 데이터에서 정상(숫자)과 비정상(문자) 데이터 분리\n",
        "X_test_digits = X_test[y_test < 10]\n",
        "X_test_letters = X_test[y_test >= 10]\n",
        "\n",
        "# Test 데이터에서 숫자와 문자의 수를 동일하게 맞추기\n",
        "min_test_count = min(len(X_test_digits), len(X_test_letters))\n",
        "X_test_digits = X_test_digits[:min_test_count]\n",
        "X_test_letters = X_test_letters[:min_test_count]\n",
        "\n",
        "test_digits_dataset = TensorDataset(torch.tensor(X_test_digits), torch.zeros(X_test_digits.shape[0]))\n",
        "test_letters_dataset = TensorDataset(torch.tensor(X_test_letters), torch.ones(X_test_letters.shape[0]))\n",
        "\n",
        "# DataLoader 생성\n",
        "train_loader = DataLoader(train_dataset, batch_size=batch_size, shuffle=True)\n",
        "valid_loader = DataLoader(valid_dataset_final, batch_size=batch_size, shuffle=True)\n",
        "test_digits_loader = DataLoader(test_digits_dataset, batch_size=batch_size)\n",
        "test_letters_loader = DataLoader(test_letters_dataset, batch_size=batch_size)\n",
        "\n",
        "# Test 데이터의 정상(숫자)과 비정상(문자) 데이터 결합\n",
        "X_test_combined = np.concatenate([X_test_digits, X_test_letters], axis=0)\n",
        "y_test_combined = np.concatenate([np.zeros(len(X_test_digits)), np.ones(len(X_test_letters))], axis=0)"
      ],
      "metadata": {
        "id": "EEeLBFZyJ51c"
      },
      "execution_count": 26,
      "outputs": []
    },
    {
      "cell_type": "code",
      "source": [
        "from google.colab import drive\n",
        "drive.mount('/content/drive')"
      ],
      "metadata": {
        "colab": {
          "base_uri": "https://localhost:8080/"
        },
        "id": "rjoZ0zBf6BBc",
        "outputId": "4ca757d1-cfbf-414c-f2bc-4583ad69c005"
      },
      "execution_count": 27,
      "outputs": [
        {
          "output_type": "stream",
          "name": "stdout",
          "text": [
            "Drive already mounted at /content/drive; to attempt to forcibly remount, call drive.mount(\"/content/drive\", force_remount=True).\n"
          ]
        }
      ]
    },
    {
      "cell_type": "markdown",
      "source": [
        "# 모델 학습 (수정 불가)"
      ],
      "metadata": {
        "id": "sXnCKqV7EwTT"
      }
    },
    {
      "cell_type": "code",
      "source": [
        "import matplotlib.pyplot as plt\n",
        "\n",
        "# 손실 값을 저장할 리스트 생성\n",
        "losses = []\n",
        "\n",
        "for epoch in range(num_epochs):\n",
        "    model.train()\n",
        "    running_loss = 0.0\n",
        "    for data, _ in train_loader:\n",
        "        data = data.to(device)\n",
        "\n",
        "        # 순전파\n",
        "        outputs = model(data)\n",
        "        loss = loss_fn(outputs, data)\n",
        "\n",
        "        # 역전파 및 최적화\n",
        "        optimizer.zero_grad()\n",
        "        loss.backward()\n",
        "        optimizer.step()\n",
        "\n",
        "        running_loss += loss.item()\n",
        "\n",
        "    # Epoch마다 평균 손실을 계산하여 리스트에 추가\n",
        "    avg_loss = running_loss / len(train_loader)\n",
        "    losses.append(avg_loss)\n",
        "    print(f\"Epoch [{epoch + 1}/{num_epochs}], Loss: {avg_loss:.4f}\")\n",
        "\n",
        "# 손실 곡선 그리기\n",
        "plt.plot(range(1, num_epochs + 1), losses, marker='o', label=\"Training Loss\")\n",
        "plt.xlabel(\"Epoch\")\n",
        "plt.ylabel(\"Loss\")\n",
        "plt.title(\"Training Loss Curve\")\n",
        "plt.legend()\n",
        "plt.grid()\n",
        "plt.show()\n"
      ],
      "metadata": {
        "colab": {
          "base_uri": "https://localhost:8080/",
          "height": 1000
        },
        "id": "yzHpiJOpDUmw",
        "outputId": "e3da0101-6f53-4e27-b33b-8c7852c297c0"
      },
      "execution_count": 28,
      "outputs": [
        {
          "output_type": "stream",
          "name": "stdout",
          "text": [
            "Epoch [1/80], Loss: 0.0363\n",
            "Epoch [2/80], Loss: 0.0260\n",
            "Epoch [3/80], Loss: 0.0209\n",
            "Epoch [4/80], Loss: 0.0181\n",
            "Epoch [5/80], Loss: 0.0160\n",
            "Epoch [6/80], Loss: 0.0146\n",
            "Epoch [7/80], Loss: 0.0135\n",
            "Epoch [8/80], Loss: 0.0129\n",
            "Epoch [9/80], Loss: 0.0123\n",
            "Epoch [10/80], Loss: 0.0118\n",
            "Epoch [11/80], Loss: 0.0116\n",
            "Epoch [12/80], Loss: 0.0111\n",
            "Epoch [13/80], Loss: 0.0108\n",
            "Epoch [14/80], Loss: 0.0104\n",
            "Epoch [15/80], Loss: 0.0101\n",
            "Epoch [16/80], Loss: 0.0099\n",
            "Epoch [17/80], Loss: 0.0096\n",
            "Epoch [18/80], Loss: 0.0094\n",
            "Epoch [19/80], Loss: 0.0091\n",
            "Epoch [20/80], Loss: 0.0090\n",
            "Epoch [21/80], Loss: 0.0087\n",
            "Epoch [22/80], Loss: 0.0086\n",
            "Epoch [23/80], Loss: 0.0084\n",
            "Epoch [24/80], Loss: 0.0082\n",
            "Epoch [25/80], Loss: 0.0081\n",
            "Epoch [26/80], Loss: 0.0079\n",
            "Epoch [27/80], Loss: 0.0078\n",
            "Epoch [28/80], Loss: 0.0078\n",
            "Epoch [29/80], Loss: 0.0076\n",
            "Epoch [30/80], Loss: 0.0074\n",
            "Epoch [31/80], Loss: 0.0074\n",
            "Epoch [32/80], Loss: 0.0072\n",
            "Epoch [33/80], Loss: 0.0071\n",
            "Epoch [34/80], Loss: 0.0070\n",
            "Epoch [35/80], Loss: 0.0070\n",
            "Epoch [36/80], Loss: 0.0068\n",
            "Epoch [37/80], Loss: 0.0068\n",
            "Epoch [38/80], Loss: 0.0067\n",
            "Epoch [39/80], Loss: 0.0066\n",
            "Epoch [40/80], Loss: 0.0065\n",
            "Epoch [41/80], Loss: 0.0064\n",
            "Epoch [42/80], Loss: 0.0064\n",
            "Epoch [43/80], Loss: 0.0063\n",
            "Epoch [44/80], Loss: 0.0063\n",
            "Epoch [45/80], Loss: 0.0061\n",
            "Epoch [46/80], Loss: 0.0061\n",
            "Epoch [47/80], Loss: 0.0060\n",
            "Epoch [48/80], Loss: 0.0060\n",
            "Epoch [49/80], Loss: 0.0059\n",
            "Epoch [50/80], Loss: 0.0059\n",
            "Epoch [51/80], Loss: 0.0058\n",
            "Epoch [52/80], Loss: 0.0058\n",
            "Epoch [53/80], Loss: 0.0057\n",
            "Epoch [54/80], Loss: 0.0057\n",
            "Epoch [55/80], Loss: 0.0056\n",
            "Epoch [56/80], Loss: 0.0056\n",
            "Epoch [57/80], Loss: 0.0055\n",
            "Epoch [58/80], Loss: 0.0055\n",
            "Epoch [59/80], Loss: 0.0055\n",
            "Epoch [60/80], Loss: 0.0054\n",
            "Epoch [61/80], Loss: 0.0054\n",
            "Epoch [62/80], Loss: 0.0053\n",
            "Epoch [63/80], Loss: 0.0053\n",
            "Epoch [64/80], Loss: 0.0052\n",
            "Epoch [65/80], Loss: 0.0053\n",
            "Epoch [66/80], Loss: 0.0052\n",
            "Epoch [67/80], Loss: 0.0051\n",
            "Epoch [68/80], Loss: 0.0051\n",
            "Epoch [69/80], Loss: 0.0051\n",
            "Epoch [70/80], Loss: 0.0051\n",
            "Epoch [71/80], Loss: 0.0050\n",
            "Epoch [72/80], Loss: 0.0050\n",
            "Epoch [73/80], Loss: 0.0050\n",
            "Epoch [74/80], Loss: 0.0050\n",
            "Epoch [75/80], Loss: 0.0049\n",
            "Epoch [76/80], Loss: 0.0049\n",
            "Epoch [77/80], Loss: 0.0049\n",
            "Epoch [78/80], Loss: 0.0049\n",
            "Epoch [79/80], Loss: 0.0049\n",
            "Epoch [80/80], Loss: 0.0048\n"
          ]
        },
        {
          "output_type": "display_data",
          "data": {
            "text/plain": [
              "<Figure size 640x480 with 1 Axes>"
            ],
            "image/png": "[encoded data removed]"
          },
          "metadata": {}
        }
      ]
    },
    {
      "cell_type": "markdown",
      "source": [
        "# valid 성능 평가 (수정 불가)"
      ],
      "metadata": {
        "id": "qvOfOp37L2oN"
      }
    },
    {
      "cell_type": "code",
      "source": [
        "# Validation 및 Test 데이터셋 평가 함수\n",
        "def evaluate(loader):\n",
        "    model.eval()\n",
        "    reconstruction_errors = []\n",
        "    labels = []\n",
        "    with torch.no_grad():\n",
        "        for data, label in loader:\n",
        "            data = data.to(device)\n",
        "            reconstructed = model(data).cpu().numpy()\n",
        "            reconstruction_error = np.mean(np.abs(reconstructed - data.cpu().numpy()), axis=1)\n",
        "            reconstruction_errors.extend(reconstruction_error)\n",
        "            labels.extend(label.numpy())  # 실제 라벨 저장\n",
        "    return np.array(reconstruction_errors), np.array(labels)\n",
        "\n",
        "# Validation 및 Test 데이터에 대한 재구성 오차 및 라벨 계산\n",
        "valid_errors, y_valid_combined = evaluate(valid_loader)\n",
        "test_digits_errors, _ = evaluate(test_digits_loader)\n",
        "test_letters_errors, _ = evaluate(test_letters_loader)\n",
        "\n",
        "# Validation 데이터의 임계값 찾기\n",
        "thresholds = np.linspace(np.min(valid_errors), np.max(valid_errors), 100)\n",
        "best_threshold, best_accuracy, best_precision, best_recall, best_f1, accuracies, precisions, recalls, f1_scores = find_best_threshold(thresholds, valid_errors, y_valid_combined)\n",
        "\n",
        "print(f\"Best Threshold (Validation): {best_threshold:.4f}\")\n",
        "print(f\"Best Accuracy (Validation): {best_accuracy:.4f}\")\n",
        "print(f\"Best Precision (Validation): {best_precision:.4f}\")\n",
        "print(f\"Best Recall (Validation): {best_recall:.4f}\")\n",
        "print(f\"Best F1-Score (Validation): {best_f1:.4f}\")\n"
      ],
      "metadata": {
        "colab": {
          "base_uri": "https://localhost:8080/"
        },
        "id": "4QlcO5CuE3fj",
        "outputId": "ef1e67ea-88e9-4a3f-8c9b-75b5d0288608"
      },
      "execution_count": 29,
      "outputs": [
        {
          "output_type": "stream",
          "name": "stdout",
          "text": [
            "Best Threshold (Validation): 0.0642\n",
            "Best Accuracy (Validation): 0.9037\n",
            "Best Precision (Validation): 0.9659\n",
            "Best Recall (Validation): 0.8371\n",
            "Best F1-Score (Validation): 0.8969\n"
          ]
        }
      ]
    },
    {
      "cell_type": "markdown",
      "source": [
        "# Test 성능 평가 (수정 불가)"
      ],
      "metadata": {
        "id": "P0zZ4STzL6bT"
      }
    },
    {
      "cell_type": "code",
      "source": [
        "# 테스트 데이터에 대한 성능 평가\n",
        "test_combined_dataset = TensorDataset(torch.tensor(X_test_combined), torch.tensor(y_test_combined))\n",
        "test_combined_loader = DataLoader(test_combined_dataset, batch_size=batch_size)\n",
        "\n",
        "# 테스트 데이터에 대한 재구성 오차 및 라벨 계산\n",
        "test_combined_errors, y_test_combined_actual = evaluate(test_combined_loader)\n",
        "\n",
        "# 임계값을 이용하여 예측 라벨 생성\n",
        "y_test_pred = (test_combined_errors > best_threshold).astype(int)\n",
        "\n",
        "# 테스트 데이터에 대한 성능 평가\n",
        "test_accuracy = accuracy_score(y_test_combined_actual, y_test_pred)\n",
        "test_precision = precision_score(y_test_combined_actual, y_test_pred, zero_division=0)\n",
        "test_recall = recall_score(y_test_combined_actual, y_test_pred, zero_division=0)\n",
        "test_f1 = f1_score(y_test_combined_actual, y_test_pred, zero_division=0)\n",
        "\n",
        "print(f\"Test Accuracy: {test_accuracy:.4f}\")\n",
        "print(f\"Precision: {test_precision:.4f}\")\n",
        "print(f\"Recall: {test_recall:.4f}\")\n",
        "print(f\"F1-Score: {test_f1:.4f}\")\n",
        "\n",
        "# Anomaly Score (재구성 오차) 그래프 시각화\n",
        "plt.figure(figsize=(10, 6))\n",
        "plt.hist(test_digits_errors, bins=50, alpha=0.7, label='Normal (Digits)')\n",
        "plt.hist(test_letters_errors, bins=50, alpha=0.7, label='Anomalies (Letters)')\n",
        "plt.axvline(best_threshold, color='r', linestyle='--', label=f'Threshold (Best Accuracy)')\n",
        "plt.title('Anomaly Scores (Reconstruction Errors)')\n",
        "plt.xlabel('Reconstruction Error')\n",
        "plt.ylabel('Frequency')\n",
        "plt.legend()\n",
        "plt.show()\n"
      ],
      "metadata": {
        "id": "quXnnBPS-kto",
        "colab": {
          "base_uri": "https://localhost:8080/",
          "height": 637
        },
        "outputId": "1ed20ad1-1e32-4659-b77c-d69c2eb2d253"
      },
      "execution_count": 30,
      "outputs": [
        {
          "output_type": "stream",
          "name": "stdout",
          "text": [
            "Test Accuracy: 0.7961\n",
            "Precision: 0.7755\n",
            "Recall: 0.8335\n",
            "F1-Score: 0.8035\n"
          ]
        },
        {
          "output_type": "display_data",
          "data": {
            "text/plain": [
              "<Figure size 1000x600 with 1 Axes>"
            ],
            "image/png": "[encoded data removed]"
          },
          "metadata": {}
        }
      ]
    }
  ]
}